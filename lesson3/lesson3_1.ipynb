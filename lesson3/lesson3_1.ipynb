{
 "cells": [
  {
   "cell_type": "code",
   "execution_count": null,
   "id": "9905dc03",
   "metadata": {},
   "outputs": [],
   "source": [
    "# 使用python內建的標準函式庫,建立範例\n",
    "# 這裡我們將示範如何使用 Python 內建的標準函式庫（例如 datetime、random、os）\n",
    "import datetime\n",
    "import random\n",
    "import os\n",
    "\n",
    "# 範例1：使用 datetime 取得現在的日期和時間\n",
    "now = datetime.datetime.now()\n",
    "print(\"現在的日期和時間：\", now)\n",
    "\n",
    "# 範例2：使用 random 產生 1 到 10 之間的隨機整數\n",
    "rand_num = random.randint(1, 10)\n",
    "print(\"隨機產生的數字：\", rand_num)\n",
    "\n",
    "# 範例3：使用 os 取得目前的工作目錄\n",
    "current_dir = os.getcwd()\n",
    "print(\"目前的工作目錄：\", current_dir)"
   ]
  }
 ],
 "metadata": {
  "language_info": {
   "name": "python"
  }
 },
 "nbformat": 4,
 "nbformat_minor": 5
}
