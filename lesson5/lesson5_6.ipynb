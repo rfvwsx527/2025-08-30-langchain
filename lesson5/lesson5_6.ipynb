{
 "cells": [
  {
   "cell_type": "code",
   "execution_count": 1,
   "id": "f89eab9f",
   "metadata": {},
   "outputs": [
    {
     "name": "stdout",
     "output_type": "stream",
     "text": [
      "=== Ollama 模型設定完成 ===\n",
      "使用模型: gemma3:270m\n",
      "模型類型: <class 'langchain_ollama.llms.OllamaLLM'>\n"
     ]
    }
   ],
   "source": [
    "from langchain_ollama import OllamaLLM\n",
    "\n",
    "model = OllamaLLM(model=\"gemma3:270m\")\n",
    "print(\"=== Ollama 模型設定完成 ===\")\n",
    "print(f\"使用模型: gemma3:270m\")\n",
    "print(f\"模型類型: {type(model)}\")"
   ]
  },
  {
   "cell_type": "code",
   "execution_count": 2,
   "id": "79a9a723",
   "metadata": {},
   "outputs": [
    {
     "name": "stdout",
     "output_type": "stream",
     "text": [
      "=== 基本 Prompt Template 範例 ===\n",
      "\n",
      "你是一位專業的繁體中文翻譯家，具有豐富的語言學背景。\n",
      "請將使用者提供的以下英文句子翻譯成流暢、自然的繁體中文。\n",
      "\n",
      "英文句子：Despite the initial skepticism from the board, the engineering team persevered with their unconventional approach, which ultimately proved to be the breakthrough the company desperately needed.\n",
      "繁體中文翻譯：\n",
      "\n",
      "\n",
      "==================================================\n",
      "Ollama gemma3:1b模型回應:\n",
      "以下是幾個翻譯選項，各有側重，您可以根據語氣和上下文選擇最適合的：\n",
      "\n",
      "**選項一 (較正式，強調毅力)：**\n",
      "\n",
      "「雖然最初的董事會對這個方案有疑慮，但工程團隊卻堅定堅持他們的非同尋常方式，最終卻真正為公司帶來了突破口。」\n",
      "\n",
      "**選項二 (較自然，更易讀)：**\n",
      "\n",
      "「董事會最初有質疑這個方案，但工程團隊並沒有放棄，他們的獨特方法反而成功地幫助公司找到了突破口。」\n",
      "\n",
      "**選項三 (更強調成果)：**\n",
      "\n",
      "「董事會最初的質疑，並沒有阻止工程團隊的堅持，他們的非傳統方法最終地給予公司帶來了關鍵的突破。」\n",
      "\n",
      "**選項四 (簡潔，適合一般情況)：**\n",
      "\n",
      "「董事會最初有疑慮，但工程團隊堅持他們的創新方法，最終幫助公司找到了突破。」\n",
      "\n",
      "**選擇哪個翻譯取決於您想要傳達的語氣。** 我建議您根據您所寫的上下文和目標受眾來選擇最合適的翻譯。\n",
      "\n",
      "**更進一步的說明：**\n",
      "\n",
      "*   **“exceptional” (卓越的)** 比 “突破” 更為正式。\n",
      "*   **“demonstrably” (顯而易見)** 比 “最終” 更為精準。\n",
      "*   **“brought” (帶來)** 比 “ proved to be” 更加口語化。\n",
      "\n",
      "希望這些選項能幫助您！\n",
      "\n"
     ]
    }
   ],
   "source": [
    "# 1. 基本 Prompt Template 使用\n",
    "from langchain.prompts import PromptTemplate\n",
    "from langchain_ollama import OllamaLLM\n",
    "\n",
    "model = OllamaLLM(model=\"gemma3:1b\")\n",
    "\n",
    "# 建立翻譯模板\n",
    "template_text = \"\"\"\n",
    "你是一位專業的繁體中文翻譯家，具有豐富的語言學背景。\n",
    "請將使用者提供的以下英文句子翻譯成流暢、自然的繁體中文。\n",
    "\n",
    "英文句子：{english_sentence}\n",
    "繁體中文翻譯：\n",
    "\"\"\"\n",
    "\n",
    "# 建立 Prompt Template\n",
    "prompt_template = PromptTemplate(\n",
    "    template=template_text,\n",
    "    input_variables=[\"english_sentence\"]\n",
    "    \n",
    ")\n",
    "\n",
    "# 使用模板\n",
    "formatted_prompt = prompt_template.format(english_sentence=\"Despite the initial skepticism from the board, the engineering team persevered with their unconventional approach, which ultimately proved to be the breakthrough the company desperately needed.\")\n",
    "print(\"=== 基本 Prompt Template 範例 ===\")\n",
    "print(formatted_prompt)\n",
    "print(\"\\n\" + \"=\"*50)\n",
    "print(\"Ollama gemma3:1b模型回應:\")\n",
    "\n",
    "response = model.invoke(formatted_prompt)\n",
    "print(response)"
   ]
  },
  {
   "cell_type": "code",
   "execution_count": 5,
   "id": "8f2b2c15",
   "metadata": {},
   "outputs": [
    {
     "name": "stdout",
     "output_type": "stream",
     "text": [
      "=== 多變數複雜模板範例 ===\n",
      "Human: \n",
      "你是一位專業的繁體中文翻譯家，專精於商業領域。\n",
      "請將以下英文文本翻譯成繁體中文，並確保：\n",
      "1. 保持原文的語氣和風格\n",
      "2. 使用專業術語\n",
      "3. 符合繁體中文的語言習慣\n",
      "\n",
      "英文文本：The quarterly revenue increased by 15% compared to last year.\n",
      "繁體中文翻譯：\n",
      "\n",
      "\n",
      "==================================================\n",
      "Ollama gpt-oss:20b模型回應:\n",
      "季度收入比去年同期增加了15%，表明公司在短期內已經取得了一定的經濟成長。\n"
     ]
    }
   ],
   "source": [
    "from langchain_ollama import OllamaLLM\n",
    "from langchain.prompts import ChatPromptTemplate\n",
    "\n",
    "model = OllamaLLM(model=\"llama3.2:latest\")\n",
    "\n",
    "\n",
    "\n",
    "# 建立多變數的翻譯模板\n",
    "complex_template = \"\"\"\n",
    "你是一位專業的{target_language}翻譯家，專精於{domain}領域。\n",
    "請將以下{source_language}文本翻譯成{target_language}，並確保：\n",
    "1. 保持原文的語氣和風格\n",
    "2. 使用專業術語\n",
    "3. 符合{target_language}的語言習慣\n",
    "\n",
    "{source_language}文本：{text}\n",
    "{target_language}翻譯：\n",
    "\"\"\"\n",
    "\n",
    "chat_prompt_template = ChatPromptTemplate.from_template(complex_template)\n",
    "\n",
    "formatted_prompt = chat_prompt_template.format(\n",
    "    target_language=\"繁體中文\",\n",
    "    source_language=\"英文\",\n",
    "    domain=\"商業\",\n",
    "    text=\"The quarterly revenue increased by 15% compared to last year.\"\n",
    "    )\n",
    "\n",
    "print(\"=== 多變數複雜模板範例 ===\")\n",
    "print(formatted_prompt)\n",
    "print(\"\\n\" + \"=\"*50)\n",
    "print(\"Ollama gpt-oss:20b模型回應:\")\n",
    "\n",
    "response = model.invoke(formatted_prompt)\n",
    "print(response)"
   ]
  }
 ],
 "metadata": {
  "kernelspec": {
   "display_name": ".venv",
   "language": "python",
   "name": "python3"
  },
  "language_info": {
   "codemirror_mode": {
    "name": "ipython",
    "version": 3
   },
   "file_extension": ".py",
   "mimetype": "text/x-python",
   "name": "python",
   "nbconvert_exporter": "python",
   "pygments_lexer": "ipython3",
   "version": "3.10.18"
  }
 },
 "nbformat": 4,
 "nbformat_minor": 5
}
