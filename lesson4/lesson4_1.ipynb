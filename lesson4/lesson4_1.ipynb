{
 "cells": [
  {
   "cell_type": "markdown",
   "id": "b3abb359",
   "metadata": {},
   "source": [
    "### 使用ollama"
   ]
  },
  {
   "cell_type": "code",
   "execution_count": 10,
   "id": "0f2ed21e",
   "metadata": {},
   "outputs": [
    {
     "name": "stdout",
     "output_type": "stream",
     "text": [
      "所有答案\n",
      "content='The Tesla Model X is a full-size luxury electric SUV produced by Tesla, Inc. It was first introduced in 2015 and has been in production since then. The Model X is designed to provide a unique driving experience, with its signature three-row seating configuration.\\n\\nHere are some key features of the Tesla Model X:\\n\\n1. **Length and width**: The Model X measures 204.9 inches (5.24 meters) long, 80.6 inches (2.06 meters) wide, and has a wheelbase of 119.7 inches (3 meters).\\n2. **Seating capacity**: The Model X can accommodate up to seven passengers, with three rows of seats:\\n * First row: 32 inches (0.8 meters) high seatback\\n * Second row: 22 inches (0.56 meters) high seatback\\n * Third row: 16 inches (0.4 meters) high seatback\\n3. **Cabin**: The cabin is designed with a minimalist aesthetic, featuring large glass surfaces and panoramic views of the surroundings.\\n4. **Infotainment system**: The Model X features a 17-inch touchscreen display, Apple CarPlay and Android Auto integration, and a 12-speaker premium audio system.\\n5. **Powertrain**: The Model X is powered by three electric motors, producing 778 horsepower in its most powerful version (P100D). It also features a dual-motor setup for the non-P100D models.\\n6. **Range**: The Model X has an estimated range of up to 325 miles (525 km) on a single charge, depending on the trim level and drivetrain.\\n7. **Features**: Some notable features of the Tesla Model X include:\\n * Autopilot: a semi-autonomous driving system that enables semi-autonomous driving\\n * Summon: a feature that allows the vehicle to be summoned from a distance using the key fob or with an app on a compatible device\\n * Panoramic glass roof: a panoramic view of the surroundings is available in all trims\\n8. **Trim levels**: The Model X is available in several trim levels, including:\\n * Long Range (P100D)\\n * Performance (P1000)\\n * Standard Range (P105)' additional_kwargs={} response_metadata={'model': 'llama3.2:1b', 'created_at': '2025-09-20T06:34:11.2848151Z', 'done': True, 'done_reason': 'stop', 'total_duration': 13490216800, 'load_duration': 72951100, 'prompt_eval_count': 31, 'prompt_eval_duration': 91499800, 'eval_count': 458, 'eval_duration': 13325765900, 'model_name': 'llama3.2:1b'} id='run--bb128747-33c4-44b5-9695-e846546d628b-0' usage_metadata={'input_tokens': 31, 'output_tokens': 458, 'total_tokens': 489}\n",
      "回答內容是\n",
      "The Tesla Model X is a full-size luxury electric SUV produced by Tesla, Inc. It was first introduced in 2015 and has been in production since then. The Model X is designed to provide a unique driving experience, with its signature three-row seating configuration.\n",
      "\n",
      "Here are some key features of the Tesla Model X:\n",
      "\n",
      "1. **Length and width**: The Model X measures 204.9 inches (5.24 meters) long, 80.6 inches (2.06 meters) wide, and has a wheelbase of 119.7 inches (3 meters).\n",
      "2. **Seating capacity**: The Model X can accommodate up to seven passengers, with three rows of seats:\n",
      " * First row: 32 inches (0.8 meters) high seatback\n",
      " * Second row: 22 inches (0.56 meters) high seatback\n",
      " * Third row: 16 inches (0.4 meters) high seatback\n",
      "3. **Cabin**: The cabin is designed with a minimalist aesthetic, featuring large glass surfaces and panoramic views of the surroundings.\n",
      "4. **Infotainment system**: The Model X features a 17-inch touchscreen display, Apple CarPlay and Android Auto integration, and a 12-speaker premium audio system.\n",
      "5. **Powertrain**: The Model X is powered by three electric motors, producing 778 horsepower in its most powerful version (P100D). It also features a dual-motor setup for the non-P100D models.\n",
      "6. **Range**: The Model X has an estimated range of up to 325 miles (525 km) on a single charge, depending on the trim level and drivetrain.\n",
      "7. **Features**: Some notable features of the Tesla Model X include:\n",
      " * Autopilot: a semi-autonomous driving system that enables semi-autonomous driving\n",
      " * Summon: a feature that allows the vehicle to be summoned from a distance using the key fob or with an app on a compatible device\n",
      " * Panoramic glass roof: a panoramic view of the surroundings is available in all trims\n",
      "8. **Trim levels**: The Model X is available in several trim levels, including:\n",
      " * Long Range (P100D)\n",
      " * Performance (P1000)\n",
      " * Standard Range (P105)\n"
     ]
    }
   ],
   "source": [
    "#ollama api\n",
    "# Chat Model Documents:https://python.langchain.com/docs/integrations/chat/\n",
    "# Google Chat Model Documents:https://python.langchain.com/docs/integrations/chat/ollama/\n",
    "\n",
    "\n",
    "from langchain_ollama import ChatOllama\n",
    "\n",
    "\n",
    "# Create a ChatOllama model\n",
    "# 透過網址的方式連結ollama (指定 base_url 指向 Ollama server)\n",
    "# 預設 Ollama server 在本機的 11434 埠，若在其他主機或埠請改成相對應的網址\n",
    "\n",
    "model = ChatOllama(model=\"llama3.2:1b\", base_url=\"http://localhost:11434\")\n",
    "\n",
    "\n",
    "# Invoke the model with a message\n",
    "result = model.invoke(\"what is tesla model X\")\n",
    "print(\"所有答案\")\n",
    "print(result)\n",
    "print(\"回答內容是\")\n",
    "print(result.content)"
   ]
  },
  {
   "cell_type": "code",
   "execution_count": 2,
   "id": "343d20fc",
   "metadata": {},
   "outputs": [
    {
     "name": "stdout",
     "output_type": "stream",
     "text": [
      "所有答案\n",
      "content='81除以9的答案是 **9**。' additional_kwargs={} response_metadata={'prompt_feedback': {'block_reason': 0, 'safety_ratings': []}, 'finish_reason': 'STOP', 'model_name': 'gemini-2.5-flash', 'safety_ratings': []} id='run--ec6032af-794f-4dde-8f02-fe2b4f79f80d-0' usage_metadata={'input_tokens': 10, 'output_tokens': 67, 'total_tokens': 77, 'input_token_details': {'cache_read': 0}, 'output_token_details': {'reasoning': 55}}\n",
      "回答內容是\n",
      "81除以9的答案是 **9**。\n"
     ]
    }
   ],
   "source": [
    "#google\n",
    "# Chat Model Documents:https://python.langchain.com/docs/integrations/chat/\n",
    "# Google Chat Model Documents: https://python.langchain.com/docs/integrations/chat/google_generative_ai/\n",
    "\n",
    "from dotenv import load_dotenv\n",
    "from langchain_google_genai import ChatGoogleGenerativeAI\n",
    "\n",
    "# Load environment variables from .env\n",
    "load_dotenv()\n",
    "\n",
    "# Create a ChatGoogleGenerativeAI model\n",
    "model = ChatGoogleGenerativeAI(model=\"gemini-2.5-flash\")\n",
    "\n",
    "# Invoke the model with a message\n",
    "result = model.invoke(\"81除以9的答案是?\")\n",
    "print(\"所有答案\")\n",
    "print(result)\n",
    "print(\"回答內容是\")\n",
    "print(result.content)"
   ]
  }
 ],
 "metadata": {
  "kernelspec": {
   "display_name": ".venv",
   "language": "python",
   "name": "python3"
  },
  "language_info": {
   "codemirror_mode": {
    "name": "ipython",
    "version": 3
   },
   "file_extension": ".py",
   "mimetype": "text/x-python",
   "name": "python",
   "nbconvert_exporter": "python",
   "pygments_lexer": "ipython3",
   "version": "3.10.18"
  }
 },
 "nbformat": 4,
 "nbformat_minor": 5
}
