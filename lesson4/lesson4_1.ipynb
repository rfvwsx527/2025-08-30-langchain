{
 "cells": [
  {
   "cell_type": "code",
   "execution_count": null,
   "id": "5c8ba553",
   "metadata": {},
   "outputs": [],
   "source": [
    "print('hello!')"
   ]
  }
 ],
 "metadata": {
  "kernelspec": {
   "display_name": "langchain",
   "language": "python",
   "name": "python3"
  },
  "language_info": {
   "name": "python",
   "version": "3.11.13"
  }
 },
 "nbformat": 4,
 "nbformat_minor": 5
}
