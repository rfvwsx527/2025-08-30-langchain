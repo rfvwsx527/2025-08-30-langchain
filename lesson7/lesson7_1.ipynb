{
 "cells": [
  {
   "cell_type": "code",
   "execution_count": 1,
   "id": "e97559ac",
   "metadata": {},
   "outputs": [
    {
     "data": {
      "application/vnd.jupyter.widget-view+json": {
       "model_id": "01b02f1d8d3b4307ad47f9d25c16c00a",
       "version_major": 2,
       "version_minor": 0
      },
      "text/plain": [
       "modules.json:   0%|          | 0.00/349 [00:00<?, ?B/s]"
      ]
     },
     "metadata": {},
     "output_type": "display_data"
    },
    {
     "name": "stderr",
     "output_type": "stream",
     "text": [
      "c:\\Users\\user\\Documents\\2025-08-30-langchain\\.venv\\lib\\site-packages\\huggingface_hub\\file_download.py:143: UserWarning: `huggingface_hub` cache-system uses symlinks by default to efficiently store duplicated files but your machine does not support them in C:\\Users\\user\\.cache\\huggingface\\hub\\models--BAAI--bge-m3. Caching files will still work but in a degraded version that might require more space on your disk. This warning can be disabled by setting the `HF_HUB_DISABLE_SYMLINKS_WARNING` environment variable. For more details, see https://huggingface.co/docs/huggingface_hub/how-to-cache#limitations.\n",
      "To support symlinks on Windows, you either need to activate Developer Mode or to run Python as an administrator. In order to activate developer mode, see this article: https://docs.microsoft.com/en-us/windows/apps/get-started/enable-your-device-for-development\n",
      "  warnings.warn(message)\n"
     ]
    },
    {
     "data": {
      "application/vnd.jupyter.widget-view+json": {
       "model_id": "3daf611c66e7488797afb5fc1b60cd11",
       "version_major": 2,
       "version_minor": 0
      },
      "text/plain": [
       "config_sentence_transformers.json:   0%|          | 0.00/123 [00:00<?, ?B/s]"
      ]
     },
     "metadata": {},
     "output_type": "display_data"
    },
    {
     "data": {
      "application/vnd.jupyter.widget-view+json": {
       "model_id": "48bad608724341cfbdaf8b9d1218cc39",
       "version_major": 2,
       "version_minor": 0
      },
      "text/plain": [
       "README.md: 0.00B [00:00, ?B/s]"
      ]
     },
     "metadata": {},
     "output_type": "display_data"
    },
    {
     "data": {
      "application/vnd.jupyter.widget-view+json": {
       "model_id": "8b89164c760044ab8d68ddb10ba5c21c",
       "version_major": 2,
       "version_minor": 0
      },
      "text/plain": [
       "sentence_bert_config.json:   0%|          | 0.00/54.0 [00:00<?, ?B/s]"
      ]
     },
     "metadata": {},
     "output_type": "display_data"
    },
    {
     "data": {
      "application/vnd.jupyter.widget-view+json": {
       "model_id": "e36f9d40130943cab45a439c458c45b1",
       "version_major": 2,
       "version_minor": 0
      },
      "text/plain": [
       "config.json:   0%|          | 0.00/687 [00:00<?, ?B/s]"
      ]
     },
     "metadata": {},
     "output_type": "display_data"
    },
    {
     "name": "stderr",
     "output_type": "stream",
     "text": [
      "Xet Storage is enabled for this repo, but the 'hf_xet' package is not installed. Falling back to regular HTTP download. For better performance, install the package with: `pip install huggingface_hub[hf_xet]` or `pip install hf_xet`\n"
     ]
    },
    {
     "data": {
      "application/vnd.jupyter.widget-view+json": {
       "model_id": "438e9654d007432a82cd91d1eec92c40",
       "version_major": 2,
       "version_minor": 0
      },
      "text/plain": [
       "pytorch_model.bin:   0%|          | 0.00/2.27G [00:00<?, ?B/s]"
      ]
     },
     "metadata": {},
     "output_type": "display_data"
    },
    {
     "name": "stderr",
     "output_type": "stream",
     "text": [
      "Xet Storage is enabled for this repo, but the 'hf_xet' package is not installed. Falling back to regular HTTP download. For better performance, install the package with: `pip install huggingface_hub[hf_xet]` or `pip install hf_xet`\n"
     ]
    },
    {
     "data": {
      "application/vnd.jupyter.widget-view+json": {
       "model_id": "8f91a1beb9e84d49a8465dc3175e4c7b",
       "version_major": 2,
       "version_minor": 0
      },
      "text/plain": [
       "model.safetensors:   0%|          | 0.00/2.27G [00:00<?, ?B/s]"
      ]
     },
     "metadata": {},
     "output_type": "display_data"
    },
    {
     "data": {
      "application/vnd.jupyter.widget-view+json": {
       "model_id": "1e93e8840e334877bde231097200001c",
       "version_major": 2,
       "version_minor": 0
      },
      "text/plain": [
       "tokenizer_config.json:   0%|          | 0.00/444 [00:00<?, ?B/s]"
      ]
     },
     "metadata": {},
     "output_type": "display_data"
    },
    {
     "name": "stderr",
     "output_type": "stream",
     "text": [
      "Xet Storage is enabled for this repo, but the 'hf_xet' package is not installed. Falling back to regular HTTP download. For better performance, install the package with: `pip install huggingface_hub[hf_xet]` or `pip install hf_xet`\n"
     ]
    },
    {
     "data": {
      "application/vnd.jupyter.widget-view+json": {
       "model_id": "7c89d709fcd946c2acc0d4cac25b25d8",
       "version_major": 2,
       "version_minor": 0
      },
      "text/plain": [
       "sentencepiece.bpe.model:   0%|          | 0.00/5.07M [00:00<?, ?B/s]"
      ]
     },
     "metadata": {},
     "output_type": "display_data"
    },
    {
     "name": "stderr",
     "output_type": "stream",
     "text": [
      "Xet Storage is enabled for this repo, but the 'hf_xet' package is not installed. Falling back to regular HTTP download. For better performance, install the package with: `pip install huggingface_hub[hf_xet]` or `pip install hf_xet`\n"
     ]
    },
    {
     "data": {
      "application/vnd.jupyter.widget-view+json": {
       "model_id": "ac3dd42fd67242b1abea716722f523dc",
       "version_major": 2,
       "version_minor": 0
      },
      "text/plain": [
       "tokenizer.json:   0%|          | 0.00/17.1M [00:00<?, ?B/s]"
      ]
     },
     "metadata": {},
     "output_type": "display_data"
    },
    {
     "data": {
      "application/vnd.jupyter.widget-view+json": {
       "model_id": "ed7319d08e6a43f18f5a89c3cfd4e9ea",
       "version_major": 2,
       "version_minor": 0
      },
      "text/plain": [
       "special_tokens_map.json:   0%|          | 0.00/964 [00:00<?, ?B/s]"
      ]
     },
     "metadata": {},
     "output_type": "display_data"
    },
    {
     "data": {
      "application/vnd.jupyter.widget-view+json": {
       "model_id": "24b9d3bc76e54b9fa505ea1c9ff3841a",
       "version_major": 2,
       "version_minor": 0
      },
      "text/plain": [
       "config.json:   0%|          | 0.00/191 [00:00<?, ?B/s]"
      ]
     },
     "metadata": {},
     "output_type": "display_data"
    }
   ],
   "source": [
    "import os\n",
    "from langchain_community.document_loaders import TextLoader\n",
    "from langchain.text_splitter import CharacterTextSplitter\n",
    "from langchain_huggingface import HuggingFaceEmbeddings\n",
    "from langchain_chroma import Chroma\n",
    "import chromadb\n",
    "\n",
    "current_dir = os.path.dirname(os.path.abspath(\"__file__\"))\n",
    "file_path = os.path.join(current_dir, \"books\", \"智慧型手機使用手冊.txt\")\n",
    "persistent_directory = os.path.join(current_dir, \"db\", \"chroma_db_v3\")\n",
    "try:\n",
    "    if not os.path.exists(persistent_directory):\n",
    "        if not os.path.exists(file_path):\n",
    "            raise FileNotFoundError(\n",
    "                f\"檔案{file_path}不存在,請檢查路徑\"\n",
    "            )\n",
    "\n",
    "        loader = TextLoader(file_path=file_path, encoding = \"utf-8\")\n",
    "        documents = loader.load()\n",
    "        text_splitter = CharacterTextSplitter(chunk_size=500, chunk_overlap=200)\n",
    "        docs = text_splitter.split_documents(documents)\n",
    "        #print(len(docs))\n",
    "        #print(docs[0].page_content)\n",
    "        embeddings = HuggingFaceEmbeddings(\n",
    "            model_name=\"BAAI/bge-m3\"\n",
    "        )\n",
    "\n",
    "        client = chromadb.PersistentClient(path=persistent_directory)\n",
    "        db = Chroma.from_documents(\n",
    "            docs,\n",
    "            embedding=embeddings,\n",
    "            client = client,\n",
    "            collection_name=\"smartphone_manual\"\n",
    "        )\n",
    "\n",
    "\n",
    "\n",
    "\n",
    "    else:\n",
    "        print(\"向量資料庫已經存在,不需要初始化\")\n",
    "except Exception as error:\n",
    "    print(error)"
   ]
  },
  {
   "cell_type": "code",
   "execution_count": 2,
   "id": "a90b6e48",
   "metadata": {},
   "outputs": [
    {
     "name": "stdout",
     "output_type": "stream",
     "text": [
      "8.4 聯絡客服\n",
      "客服管道:\n",
      "- 客服專線:0800-123-456(週一至週日 9:00-21:00)\n",
      "- 線上客服:官網即時聊天\n",
      "- 電子郵件:support@example.com\n",
      "- 服務中心:請至官網查詢鄰近服務中心地址\n",
      "\n",
      "送修前準備:\n",
      "1. 備份所有資料\n",
      "2. 移除 SIM 卡與記憶卡\n",
      "3. 準備購買證明(發票或收據)\n",
      "4. 記錄故障現象與發生時間\n",
      "\n",
      "規格總覽\n",
      "\n",
      "硬體規格:\n",
      "- 處理器:Snapdragon 8 Gen 2 / Apple A17 Pro\n",
      "- 記憶體:8GB/12GB RAM\n",
      "- 儲存空間:128GB/256GB/512GB\n",
      "- 螢幕:6.7\" AMOLED,120Hz\n",
      "- 電池:5000mAh\n",
      "- 重量:195g\n",
      "- 尺寸:163.1 x 75.5 x 8.2 mm\n",
      "\n",
      "相機:\n",
      "- 後置:50MP + 12MP + 8MP\n",
      "- 前置:32MP\n",
      "\n",
      "連線:\n",
      "- 5G、4G LTE\n",
      "- Wi-Fi 6、藍牙 5.3\n",
      "- NFC、GPS\n",
      "- USB-C\n",
      "\n",
      "作業系統:\n",
      "- Android 14 或 iOS 17\n",
      "- 承諾 4 年系統更新\n",
      "- 5 年安全性更新\n",
      "============================================================\n",
      "8.4 聯絡客服\n",
      "客服管道:\n",
      "- 客服專線:0800-123-456(週一至週日 9:00-21:00)\n",
      "- 線上客服:官網即時聊天\n",
      "- 電子郵件:support@example.com\n",
      "- 服務中心:請至官網查詢鄰近服務中心地址\n",
      "\n",
      "送修前準備:\n",
      "1. 備份所有資料\n",
      "2. 移除 SIM 卡與記憶卡\n",
      "3. 準備購買證明(發票或收據)\n",
      "4. 記錄故障現象與發生時間\n",
      "\n",
      "規格總覽\n",
      "\n",
      "硬體規格:\n",
      "- 處理器:Snapdragon 8 Gen 2 / Apple A17 Pro\n",
      "- 記憶體:8GB/12GB RAM\n",
      "- 儲存空間:128GB/256GB/512GB\n",
      "- 螢幕:6.7\" AMOLED,120Hz\n",
      "- 電池:5000mAh\n",
      "- 重量:195g\n",
      "- 尺寸:163.1 x 75.5 x 8.2 mm\n",
      "\n",
      "相機:\n",
      "- 後置:50MP + 12MP + 8MP\n",
      "- 前置:32MP\n",
      "\n",
      "連線:\n",
      "- 5G、4G LTE\n",
      "- Wi-Fi 6、藍牙 5.3\n",
      "- NFC、GPS\n",
      "- USB-C\n",
      "\n",
      "作業系統:\n",
      "- Android 14 或 iOS 17\n",
      "- 承諾 4 年系統更新\n",
      "- 5 年安全性更新\n",
      "============================================================\n",
      "相機:\n",
      "- 後置:50MP + 12MP + 8MP\n",
      "- 前置:32MP\n",
      "\n",
      "連線:\n",
      "- 5G、4G LTE\n",
      "- Wi-Fi 6、藍牙 5.3\n",
      "- NFC、GPS\n",
      "- USB-C\n",
      "\n",
      "作業系統:\n",
      "- Android 14 或 iOS 17\n",
      "- 承諾 4 年系統更新\n",
      "- 5 年安全性更新\n",
      "\n",
      "包裝內容物:\n",
      "- 手機主機\n",
      "- USB-C 充電線\n",
      "- 65W 充電器\n",
      "- SIM 卡退卡針\n",
      "- 透明保護殼\n",
      "- 使用手冊\n",
      "- 保固卡\n",
      "\n",
      "本手冊為簡化版,完整功能說明請參考官方網站或聯絡客服。\n",
      "============================================================\n"
     ]
    }
   ],
   "source": [
    "query = \"請手機硬體規格如何?\"\n",
    "\n",
    "embeddings = HuggingFaceEmbeddings(\n",
    "            model_name=\"BAAI/bge-m3\"\n",
    "        )\n",
    "\n",
    "client = chromadb.PersistentClient(path=persistent_directory)\n",
    "db = Chroma.from_documents(\n",
    "            docs,\n",
    "            embedding=embeddings,\n",
    "            client = client,\n",
    "            collection_name=\"smartphone_manual\"\n",
    "        )\n",
    "\n",
    "retriever = db.as_retriever(\n",
    "    search_type=\"similarity\",\n",
    "    search_kwargs={\"k\": 3}\n",
    ")\n",
    "\n",
    "relevant_docs = retriever.invoke(query)\n",
    "for doc in relevant_docs:\n",
    "    print(doc.page_content)\n",
    "    print(\"=\" * 60)"
   ]
  }
 ],
 "metadata": {
  "kernelspec": {
   "display_name": ".venv",
   "language": "python",
   "name": "python3"
  },
  "language_info": {
   "codemirror_mode": {
    "name": "ipython",
    "version": 3
   },
   "file_extension": ".py",
   "mimetype": "text/x-python",
   "name": "python",
   "nbconvert_exporter": "python",
   "pygments_lexer": "ipython3",
   "version": "3.10.19"
  }
 },
 "nbformat": 4,
 "nbformat_minor": 5
}
