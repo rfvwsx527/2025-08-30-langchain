{
 "cells": [
  {
   "cell_type": "markdown",
   "id": "8780ebfb",
   "metadata": {},
   "source": [
    "## python 數學運算"
   ]
  },
  {
   "cell_type": "markdown",
   "id": "4a278707",
   "metadata": {},
   "source": [
    "```\n",
    "# 基本語法：變數名稱 = 值\n",
    "name = \"小明\"\n",
    "age = 18\n",
    "height = 175.5\n",
    "is_student = True\n",
    "```"
   ]
  },
  {
   "cell_type": "code",
   "execution_count": 1,
   "id": "5bf04e5e",
   "metadata": {},
   "outputs": [
    {
     "name": "stdout",
     "output_type": "stream",
     "text": [
      "小明\n",
      "<class 'str'>\n",
      "================\n",
      "18\n",
      "<class 'int'>\n",
      "=================\n",
      "175.5\n",
      "<class 'float'>\n",
      "===============\n",
      "True\n",
      "<class 'bool'>\n"
     ]
    }
   ],
   "source": [
    "name = \"小明\"\n",
    "print(name)\n",
    "print(type(name)) #呼叫function\n",
    "print('================')\n",
    "\n",
    "\n",
    "age = 18\n",
    "print(age)\n",
    "print(type(age))\n",
    "print('=================')\n",
    "\n",
    "height = 175.5\n",
    "print(height)\n",
    "print(type(height))\n",
    "print('===============')\n",
    "\n",
    "\n",
    "is_student = True\n",
    "print(is_student)\n",
    "print(type(is_student))"
   ]
  },
  {
   "cell_type": "code",
   "execution_count": 2,
   "id": "95b4df6c",
   "metadata": {},
   "outputs": [
    {
     "name": "stdout",
     "output_type": "stream",
     "text": [
      "name變數儲存的值是小明,資料類型是:<class 'str'>.\n",
      "age變數儲存的值是18,資料類型是:<class 'int'>.\n"
     ]
    }
   ],
   "source": [
    "print(\"name變數儲存的值是\",name,\",資料類型是:\",type(name),sep='',end='.\\n')\n",
    "print(\"age變數儲存的值是\",age,\",資料類型是:\",type(age),sep='',end='.\\n')"
   ]
  },
  {
   "cell_type": "code",
   "execution_count": 3,
   "id": "afa90cf7",
   "metadata": {},
   "outputs": [
    {
     "name": "stdout",
     "output_type": "stream",
     "text": [
      "name變數儲存的值是小明,資料類型是:<class 'str'>.\n",
      "age變數儲存的值是18,資料類型是:<class 'int'>.\n"
     ]
    }
   ],
   "source": [
    "print(f\"name變數儲存的值是{name},資料類型是:{type(name)}.\")\n",
    "print(f\"age變數儲存的值是{age},資料類型是:{type(age)}.\")"
   ]
  },
  {
   "cell_type": "code",
   "execution_count": null,
   "id": "2a2b9b15",
   "metadata": {},
   "outputs": [],
   "source": [
    "# 進階數學運算範例\n",
    "print(\"=== 進階數學運算 ===\")\n",
    "\n",
    "# 複合運算\n",
    "甲 = 5\n",
    "乙 = 2\n",
    "丙 = 3\n",
    "\n",
    "# 運算順序範例\n",
    "結果1 = 甲 + 乙 * 丙\n",
    "print(f\"甲 + 乙 * 丙 = {甲} + {乙} * {丙} = {結果1}\")  # 5 + 2 * 3 = 11\n",
    "\n",
    "結果2 = (甲 + 乙) * 丙\n",
    "print(f\"(甲 + 乙) * 丙 = ({甲} + {乙}) * {丙} = {結果2}\")  # (5 + 2) * 3 = 21\n",
    "\n",
    "# 冪次運算的應用\n",
    "底數 = 2\n",
    "次方 = 8\n",
    "冪次結果 = 底數 ** 次方\n",
    "print(f\"{底數} 的 {次方} 次方 = {冪次結果}\")  # 2^8 = 256\n",
    "\n",
    "# 取餘數的應用 - 判斷奇偶數\n",
    "數字 = 17\n",
    "if 數字 % 2 == 0:\n",
    "    print(f\"{數字} 是偶數\")\n",
    "else:\n",
    "    print(f\"{數字} 是奇數\")\n",
    "\n",
    "# 整數除法的應用 - 計算商和餘數\n",
    "被除數 = 25\n",
    "除數 = 4\n",
    "商 = 被除數 // 除數\n",
    "餘數 = 被除數 % 除數\n",
    "print(f\"{被除數} ÷ {除數} = {商} 餘 {餘數}\")\n",
    "\n",
    "# 負數運算\n",
    "負甲 = -10\n",
    "負乙 = -3\n",
    "print(f\"負數加法: {負甲} + {負乙} = {負甲 + 負乙}\")\n",
    "print(f\"負數乘法: {負甲} * {負乙} = {負甲 * 負乙}\")\n",
    "print(f\"負數除法: {負甲} / {負乙} = {負甲 / 負乙}\")\n"
   ]
  },
  {
   "cell_type": "code",
   "execution_count": null,
   "id": "4c00bedc",
   "metadata": {},
   "outputs": [],
   "source": [
    "#有一個直角三角形，已知兩邊長，求第三邊長\n",
    "已知兩邊長 = 3\n",
    "已知另一邊長 = 4\n",
    "斜邊 = (已知兩邊長 ** 2 + 已知另一邊長 ** 2) ** 0.5\n",
    "print(f\"斜邊 = {斜邊}\")\n",
    "\n",
    "# 計算圓周長和圓面積\n",
    "半徑 = 5\n",
    "圓周長 = 2 * 3.14 * 半徑\n",
    "圓面積 = 3.14 * 半徑 ** 2\n",
    "print(f\"圓周長 = {圓周長}\")\n",
    "print(f\"圓面積 = {圓面積}\")"
   ]
  }
 ],
 "metadata": {
  "kernelspec": {
   "display_name": "langchain",
   "language": "python",
   "name": "python3"
  },
  "language_info": {
   "codemirror_mode": {
    "name": "ipython",
    "version": 3
   },
   "file_extension": ".py",
   "mimetype": "text/x-python",
   "name": "python",
   "nbconvert_exporter": "python",
   "pygments_lexer": "ipython3",
   "version": "3.11.13"
  }
 },
 "nbformat": 4,
 "nbformat_minor": 5
}
