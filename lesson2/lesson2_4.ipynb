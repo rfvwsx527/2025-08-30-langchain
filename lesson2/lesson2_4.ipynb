{
 "cells": [
  {
   "cell_type": "code",
   "execution_count": 2,
   "id": "1b97f988",
   "metadata": {},
   "outputs": [
    {
     "name": "stdout",
     "output_type": "stream",
     "text": [
      "   *   \n",
      "  ***  \n",
      " ***** \n",
      "*******\n",
      "   |   \n"
     ]
    }
   ],
   "source": [
    "#自訂一個function,必需列印出聖誕樹,不使用迴圈,只要使用純print,要有樹葉和樹幹\n",
    "#todo:實作function 列印聖誕樹    \n",
    "\n",
    "def print_christmas_tree():\n",
    "    # 樹葉部分\n",
    "    print(\"   *   \")\n",
    "    print(\"  ***  \")\n",
    "    print(\" ***** \")\n",
    "    print(\"*******\")\n",
    "    # 樹幹部分\n",
    "    print(\"   |   \")\n",
    "\n",
    "# 呼叫函式，列印聖誕樹\n",
    "print_christmas_tree()"
   ]
  },
  {
   "cell_type": "code",
   "execution_count": 3,
   "id": "ea01cb66",
   "metadata": {},
   "outputs": [
    {
     "name": "stdout",
     "output_type": "stream",
     "text": [
      "   *   \n",
      "  ***  \n",
      " ***** \n",
      "*******\n",
      "   |   \n"
     ]
    }
   ],
   "source": [
    "\n",
    "print_christmas_tree()"
   ]
  },
  {
   "cell_type": "code",
   "execution_count": 4,
   "id": "92d19b05",
   "metadata": {},
   "outputs": [
    {
     "name": "stdout",
     "output_type": "stream",
     "text": [
      "半徑為5的圓，面積為78.54，圓周長為31.42\n"
     ]
    }
   ],
   "source": [
    "# 自訂一個function，計算圓面積和圓周長\n",
    "def circle_area_circumference(radius):\n",
    "    \"\"\"\n",
    "    傳入半徑，回傳(面積, 圓周長)\n",
    "    \"\"\"\n",
    "    pi = 3.1415926\n",
    "    area = pi * radius * radius\n",
    "    circumference = 2 * pi * radius\n",
    "    return area, circumference\n",
    "\n",
    "# 範例：計算半徑為5的圓面積和圓周長\n",
    "r = 5\n",
    "area, circumference = circle_area_circumference(r)\n",
    "print(f\"半徑為{r}的圓，面積為{area:.2f}，圓周長為{circumference:.2f}\")\n"
   ]
  }
 ],
 "metadata": {
  "kernelspec": {
   "display_name": "langchain",
   "language": "python",
   "name": "python3"
  },
  "language_info": {
   "codemirror_mode": {
    "name": "ipython",
    "version": 3
   },
   "file_extension": ".py",
   "mimetype": "text/x-python",
   "name": "python",
   "nbconvert_exporter": "python",
   "pygments_lexer": "ipython3",
   "version": "3.11.13"
  }
 },
 "nbformat": 4,
 "nbformat_minor": 5
}
