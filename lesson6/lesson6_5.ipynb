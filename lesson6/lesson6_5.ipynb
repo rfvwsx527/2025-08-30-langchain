{
 "cells": [
  {
   "cell_type": "code",
   "execution_count": 1,
   "id": "0cdef3e8",
   "metadata": {},
   "outputs": [],
   "source": [
    "\n",
    "from langchain.prompts import ChatPromptTemplate\n",
    "from langchain.schema.output_parser import StrOutputParser\n",
    "from langchain_ollama.llms import OllamaLLM\n",
    "from langchain.schema.runnable import RunnableLambda\n",
    "\n",
    "model = OllamaLLM(model=\"llama3.2:1b\")\n",
    "# model = OllamaLLM(model=\"gpt-oss:20b\")"
   ]
  },
  {
   "cell_type": "code",
   "execution_count": 2,
   "id": "ea5fc251",
   "metadata": {},
   "outputs": [],
   "source": [
    "prompt_template = ChatPromptTemplate.from_messages([\n",
    "    (\"system\",\"你是一個專業的客服代表，負責回覆客戶郵件。請用友善和專業的語調回覆。請不要回覆(公司的資訊和結尾詞),我會自已手動增加\"),\n",
    "    (\"human\",\"請回覆這封客戶郵件：\\n\\n{email_content}\")\n",
    "])"
   ]
  },
  {
   "cell_type": "code",
   "execution_count": 3,
   "id": "33d619e0",
   "metadata": {},
   "outputs": [],
   "source": [
    "def format_email_reply(ai_answer:str) -> str:\n",
    "    import datetime\n",
    "    date_str = datetime.datetime.now().strftime(\"中華民國,西元%Y-%m-%d %H:%M\")\n",
    "    formatted_reply = f\"\"\"{ai_answer}\n",
    "\n",
    "感謝您的來信，如有其他問題請隨時聯繫我們。\n",
    "\n",
    "此致\n",
    "致理客服團隊\n",
    "\n",
    "回覆時間:{date_str}\n",
    "\"\"\"\n",
    "\n",
    "    return formatted_reply\n",
    "\n",
    "format_email = RunnableLambda(format_email_reply)"
   ]
  },
  {
   "cell_type": "code",
   "execution_count": 4,
   "id": "c1953bc0",
   "metadata": {},
   "outputs": [],
   "source": [
    "improve_prompt = ChatPromptTemplate.from_messages(\n",
    "    [\n",
    "        (\"system\",\"你是郵件品質專家。請評估這封郵件的專業度、友善度和完整度（1-10分），並提供具體的改進建議。\"),\n",
    "        (\"human\",\"估並改進這封郵件:\\n\\n{formatted_reply}\")\n",
    "    ]\n",
    ")"
   ]
  },
  {
   "cell_type": "code",
   "execution_count": 5,
   "id": "20127137",
   "metadata": {},
   "outputs": [],
   "source": [
    "chain = (prompt_template \n",
    "        | model\n",
    "        | StrOutputParser()\n",
    "        | format_email\n",
    "        | improve_prompt\n",
    "        | model\n",
    "        | StrOutputParser()\n",
    ")"
   ]
  },
  {
   "cell_type": "code",
   "execution_count": 6,
   "id": "c28a2bda",
   "metadata": {},
   "outputs": [],
   "source": [
    "customer_email = \"\"\"您好:\n",
    "\n",
    "我最近購買了貴公司的產品，但是發現包裝有損壞，而且產品功能與說明書不符。\n",
    "請問可以退貨或換貨嗎？我已經購買一週了。\n",
    "\n",
    "期待您的回覆。\n",
    "\n",
    "\n",
    "王小明\"\"\""
   ]
  },
  {
   "cell_type": "code",
   "execution_count": 7,
   "id": "95e1c505",
   "metadata": {},
   "outputs": [
    {
     "name": "stdout",
     "output_type": "stream",
     "text": [
      "系統：郵件品質評估 tools 中，王小明的郵件呈現如下：\n",
      "\n",
      "專業度 (1-10分): 6/10\n",
      "友善度 (1-10分): 8/10\n",
      "完整度 (1-10分): 9/10\n",
      "\n",
      "分析：\n",
      "\n",
      "優點:\n",
      "\n",
      "* 輕盈：郵件內的語言表達顯示王小明對公司的 products 關心，這是很好的品質。\n",
      "* 透明度：郵件提供了相關政策和程序的資訊，這使得王小明更容易了解公司的行為。\n",
      "\n",
      "缺點：\n",
      "\n",
      "* 輕盈不充分：郵件中沒有直接表達謝意，也未提及對公司的感謝，可能會讓人們在看完郵件後感到無序。\n",
      "* 內容性：\n",
      "\t+ 對 company 的政策和程序沒有關心，這可能會給王小明或其他Customer感到不信任。\n",
      "\t+ 只提到 product ID、購買時間點以及詳情，但未直接表達謝意和感謝。\n",
      "\n",
      "改進建議：\n",
      "\n",
      "1. 燦光王小明：用個人的字體和標記來強調這封郵件，例如使用「感謝你的郵件」或是「對您公司的 products 關心」等文字。\n",
      "2. 提及謝意：直接表達謝意，例如「感謝您的專業幫助，我非常感謝您對我公司的 products 關心」，這可以顯示王小明對 company 的感激情況。\n",
      "3. 增加內容性：\n",
      "\t+ 將相關政策和程序中提到的 details（如 product ID、購買時間點以及詳情）列出來，讓王小明或其他Customer更容易了解。\n",
      "\t+ 提到任何需要幫助的細節（例如提供指南和資訊），這可以顯示 company 的支持水平。\n",
      "\n",
      "綜合上述分析，這封郵件呈現如下：\n",
      "\n",
      "* 將公司的 products 關心表達得很好，但缺點較大。\n",
      "* 將謝意表達得太少，可能會影響王小明對 company 的感激情況。\n",
      "* 內容性部分有所改進，但仍然可以增加。\n",
      "\n",
      "最終評估：這封郵件的專業度和完整度是 6/10、9/10。王小明的謝意表達得很好，但未直接表達對 company 的感激情況，需要加強謝意的表達，以提高郵件的整體品質和信任程度。\n"
     ]
    }
   ],
   "source": [
    "result = chain.invoke({\n",
    "    \"email_content\":customer_email\n",
    "})\n",
    "\n",
    "print(result)"
   ]
  },
  {
   "cell_type": "code",
   "execution_count": null,
   "id": "5472320a",
   "metadata": {},
   "outputs": [],
   "source": []
  }
 ],
 "metadata": {
  "kernelspec": {
   "display_name": ".venv",
   "language": "python",
   "name": "python3"
  },
  "language_info": {
   "codemirror_mode": {
    "name": "ipython",
    "version": 3
   },
   "file_extension": ".py",
   "mimetype": "text/x-python",
   "name": "python",
   "nbconvert_exporter": "python",
   "pygments_lexer": "ipython3",
   "version": "3.10.19"
  }
 },
 "nbformat": 4,
 "nbformat_minor": 5
}
