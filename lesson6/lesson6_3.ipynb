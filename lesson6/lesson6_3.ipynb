{
 "cells": [
  {
   "cell_type": "code",
   "execution_count": 1,
   "id": "98eef55a",
   "metadata": {},
   "outputs": [],
   "source": [
    "def upgrade_level1(name:str) -> str:\n",
    "    result = f\"\"\"{name}\n",
    "等級1\"\"\"\n",
    "    return result\n",
    "\n",
    "def upgrade_level2(input_str) -> str:\n",
    "    result = f\"\"\"{input_str}\n",
    "等級2\"\"\"\n",
    "    return result\n",
    "\n",
    "def upgrade_level3(input_str) -> str:\n",
    "    result = f\"\"\"{input_str}\n",
    "等級3\"\"\"\n",
    "    return result"
   ]
  },
  {
   "cell_type": "code",
   "execution_count": 2,
   "id": "7defbaea",
   "metadata": {},
   "outputs": [
    {
     "name": "stdout",
     "output_type": "stream",
     "text": [
      "徐國堂\n",
      "等級1\n",
      "等級2\n",
      "等級3\n"
     ]
    }
   ],
   "source": [
    "total = upgrade_level3(upgrade_level2(upgrade_level1(name=\"徐國堂\")))\n",
    "print(total)"
   ]
  },
  {
   "cell_type": "code",
   "execution_count": 3,
   "id": "b36f02d2",
   "metadata": {},
   "outputs": [
    {
     "name": "stdout",
     "output_type": "stream",
     "text": [
      "徐國堂\n",
      "等級1\n",
      "等級2\n",
      "等級3\n"
     ]
    }
   ],
   "source": [
    "from langchain.schema.runnable import RunnableLambda\n",
    "\n",
    "chain = (RunnableLambda(upgrade_level1)\n",
    "            | RunnableLambda(upgrade_level2)\n",
    "            | RunnableLambda(upgrade_level3)\n",
    "        )\n",
    "result = chain.invoke(\"徐國堂\")\n",
    "print(result)"
   ]
  }
 ],
 "metadata": {
  "kernelspec": {
   "display_name": ".venv",
   "language": "python",
   "name": "python3"
  },
  "language_info": {
   "codemirror_mode": {
    "name": "ipython",
    "version": 3
   },
   "file_extension": ".py",
   "mimetype": "text/x-python",
   "name": "python",
   "nbconvert_exporter": "python",
   "pygments_lexer": "ipython3",
   "version": "3.10.19"
  }
 },
 "nbformat": 4,
 "nbformat_minor": 5
}
