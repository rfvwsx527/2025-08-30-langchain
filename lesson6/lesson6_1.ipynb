{
 "cells": [
  {
   "cell_type": "code",
   "execution_count": 6,
   "id": "1dd112e3",
   "metadata": {},
   "outputs": [
    {
     "name": "stdout",
     "output_type": "stream",
     "text": [
      "Python 是一種高級的、語法簡潔、易用且功能強大的ภาษ。它經過多年的發展成為目前世界上最受歡迎的程式語言之一。\n",
      "\n",
      "Python 的 origins 在 1950 年代，由 Thomas và John Grey 應該發明，但 Python 最早被 Andrew McCollum 和 Tim Peters 繼續修正和發展。在 1991 年，Python 被用於創建多元計算機系統的 Library for Artificial Intelligence (LAIA)。\n",
      "\n",
      "Python 的特點包括：\n",
      "\n",
      "*   简潔： Python 的語法很簡潔，可以快速เข้าใจ和學習。\n",
      "*   繼續發佈： Python 在 1991 年被用於創建多元計算機系統的 Library for Artificial Intelligence (LAIA)，後來被分離為一個獨立的程式語言。\n",
      "*   高級功能強大：Python 支持多種功能，如程式重達（dynamic typing）、列表、dictionary、set 等。\n",
      "*   跨平台： Python 可以 runs on Windows, macOS 和 Linux。\n",
      "\n",
      "使用 Python 的應用範圍非常廣泛，包括：\n",
      "\n",
      "*   計算機學：Python 是一個常用的計算機語言，尤其是在機器 learntheoretical computing field中。\n",
      "*  資料分析： Python 支持大量的資料分析 libraries，如 Pandas、NumPy 等，可以快速處理和分析大型數據集。\n",
      "*   建立 web應用： Python 可以使用 Flask 或 Django 等 framework Builder來建立 web application。\n",
      "*   互聯網學習： Python 是一種多樣性的語言，對於各種的互聯網學習都有很好的支持。\n",
      "\n",
      "Python 的優點包括：\n",
      "\n",
      "*   較容易學習\n",
      "*   較快速可用\n",
      "*   跨平台可以 runs on Windows, macOS 和 Linux\n",
      "*   多種 libraries 和 framework 支援\n",
      "\n",
      "Python 的缺点包括：\n",
      "\n",
      "*   不具有強大和簡單的功能強大特徵\n",
      "*   沒有 built-in support for所有的複雜功能\n",
      "*   不太適合於某些需要高度安全性或高-performance的領域。\n",
      "\n",
      "總之，Python 是一種高級的程式語言，它具有易用性、簡潔、易學習和跨平台等優點。它不僅能夠適用於計算機學、資料分析、 web development 等領域，而且有許多其他應用範圍。\n"
     ]
    }
   ],
   "source": [
    "from langchain.prompts import ChatPromptTemplate\n",
    "from langchain_ollama.llms import OllamaLLM\n",
    "from langchain.schema.output_parser import StrOutputParser\n",
    "\n",
    "prompt = ChatPromptTemplate.from_template(\"請介紹{topic}\")\n",
    "model = OllamaLLM(model=\"llama3.2:1b\")\n",
    "output_parser = StrOutputParser()\n",
    "\n",
    "# 使用LCEL語法建立鏈\n",
    "\n",
    "chain = (prompt \n",
    "           | model \n",
    "           | output_parser)\n",
    "\n",
    "print(chain.invoke({\"topic\":\"python\"}))"
   ]
  },
  {
   "cell_type": "code",
   "execution_count": 4,
   "id": "a73b627d",
   "metadata": {},
   "outputs": [],
   "source": [
    "def upgrade_level1(name:str) -> str:\n",
    "    result = f\"\"\"{name}\n",
    "等級1\"\"\"\n",
    "    return result\n",
    "\n",
    "def upgrade_level2(input_str) -> str:\n",
    "    result = f\"\"\"{input_str}\n",
    "等級2\"\"\"\n",
    "    return result\n",
    "\n",
    "def upgrade_level3(input_str) -> str:\n",
    "    result = f\"\"\"{input_str}\n",
    "等級3\"\"\"\n",
    "    return result"
   ]
  },
  {
   "cell_type": "code",
   "execution_count": 5,
   "id": "7ac5c772",
   "metadata": {},
   "outputs": [
    {
     "name": "stdout",
     "output_type": "stream",
     "text": [
      "徐國堂\n",
      "等級1\n",
      "等級2\n",
      "等級3\n"
     ]
    }
   ],
   "source": [
    "total = upgrade_level3(upgrade_level2(upgrade_level1(name=\"徐國堂\")))\n",
    "print(total)"
   ]
  }
 ],
 "metadata": {
  "kernelspec": {
   "display_name": ".venv",
   "language": "python",
   "name": "python3"
  },
  "language_info": {
   "codemirror_mode": {
    "name": "ipython",
    "version": 3
   },
   "file_extension": ".py",
   "mimetype": "text/x-python",
   "name": "python",
   "nbconvert_exporter": "python",
   "pygments_lexer": "ipython3",
   "version": "3.10.19"
  }
 },
 "nbformat": 4,
 "nbformat_minor": 5
}
