{
 "cells": [
  {
   "cell_type": "code",
   "execution_count": 1,
   "id": "3e81ae46",
   "metadata": {},
   "outputs": [],
   "source": [
    "from langchain.prompts import ChatPromptTemplate\n",
    "from langchain_ollama import OllamaLLM\n",
    "from langchain.schema.output_parser import StrOutputParser"
   ]
  },
  {
   "cell_type": "code",
   "execution_count": 2,
   "id": "fa12a265",
   "metadata": {},
   "outputs": [],
   "source": [
    "model = OllamaLLM(\n",
    "    model=\"llama3.2:1b\",\n",
    "    temperature=0.7,\n",
    "    top_p=0.9\n",
    "    )"
   ]
  },
  {
   "cell_type": "code",
   "execution_count": 3,
   "id": "c0648a7b",
   "metadata": {},
   "outputs": [],
   "source": [
    "prompt = ChatPromptTemplate.from_template(\n",
    "    \"\"\"你是一位專業的{role}，請用{style}的風格來介紹{topic}。\n",
    "\n",
    "要求：\n",
    "1. 內容要準確且易懂\n",
    "2. 長度控制在200字以內\n",
    "3. 使用繁體中文回答\n",
    "\n",
    "請開始介紹：\"\"\"\n",
    ")"
   ]
  },
  {
   "cell_type": "code",
   "execution_count": 4,
   "id": "141568ed",
   "metadata": {},
   "outputs": [
    {
     "name": "stdout",
     "output_type": "stream",
     "text": [
      "深度學習是一種機器learning方法，利用算法和神經網路來分析和預測複雜的數據。它通過使用多個層結構來連接不同層，從而對資訊進行高處理和定位。\n",
      "\n",
      "一般來說，deep learning 的基本部分包括：\n",
      "\n",
      "* 濾過層：用於降低特徵的度和 improve 可以減少計算量\n",
      "* 激張層：用於增強特徵和改善預測能力\n",
      "* 混合層：用於將多個層結構連接在一起，形成整體的模型\n",
      "\n",
      "這些層結構通過使用神經網路的方式來分析數據，並產生預測結果。深度學習在各種領域中如 image classification、natural language processing 等方面都被廣泛應用。\n"
     ]
    }
   ],
   "source": [
    "chain = (prompt | model | StrOutputParser())\n",
    "result = chain.invoke(\n",
    "    {\n",
    "        \"role\":\"AI 專家\",\n",
    "        \"style\":\"簡潔明瞭\",\n",
    "        \"topic\":\"深度學習\"\n",
    "    }\n",
    ")\n",
    "print(result)"
   ]
  }
 ],
 "metadata": {
  "kernelspec": {
   "display_name": ".venv",
   "language": "python",
   "name": "python3"
  },
  "language_info": {
   "codemirror_mode": {
    "name": "ipython",
    "version": 3
   },
   "file_extension": ".py",
   "mimetype": "text/x-python",
   "name": "python",
   "nbconvert_exporter": "python",
   "pygments_lexer": "ipython3",
   "version": "3.10.19"
  }
 },
 "nbformat": 4,
 "nbformat_minor": 5
}
