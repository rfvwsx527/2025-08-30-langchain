{
 "cells": [
  {
   "cell_type": "markdown",
   "id": "29d2810b",
   "metadata": {},
   "source": [
    "#### langchain"
   ]
  },
  {
   "cell_type": "code",
   "execution_count": null,
   "id": "023bc548",
   "metadata": {},
   "outputs": [
    {
     "name": "stdout",
     "output_type": "stream",
     "text": [
      "hello world\n"
     ]
    }
   ],
   "source": [
    "print('hello world')"
   ]
  },
  {
   "cell_type": "code",
   "execution_count": 1,
   "id": "5342c99f",
   "metadata": {},
   "outputs": [
    {
     "name": "stdout",
     "output_type": "stream",
     "text": [
      "整數: 7\n",
      "浮點數: 3.14\n",
      "字串: LangChain\n",
      "布林值: True\n",
      "12 + 5 = 17\n",
      "12 - 5 = 7\n",
      "12 * 5 = 60\n",
      "12 / 5 = 2.4\n",
      "12 % 5 = 2\n"
     ]
    }
   ],
   "source": [
    "# 建立不同型態的變數\n",
    "my_int = 7            # 整數 (int)\n",
    "my_float = 3.14       # 浮點數 (float)\n",
    "my_str = \"LangChain\"  # 字串 (str)\n",
    "my_bool = True        # 布林值 (bool)\n",
    "\n",
    "print(\"整數:\", my_int)\n",
    "print(\"浮點數:\", my_float)\n",
    "print(\"字串:\", my_str)\n",
    "print(\"布林值:\", my_bool)\n",
    "\n",
    "# 數學運算範例\n",
    "a = 12\n",
    "b = 5\n",
    "\n",
    "add_result = a + b\n",
    "sub_result = a - b\n",
    "mul_result = a * b\n",
    "div_result = a / b\n",
    "mod_result = a % b\n",
    "\n",
    "print(f\"{a} + {b} = {add_result}\")\n",
    "print(f\"{a} - {b} = {sub_result}\")\n",
    "print(f\"{a} * {b} = {mul_result}\")\n",
    "print(f\"{a} / {b} = {div_result}\")\n",
    "print(f\"{a} % {b} = {mod_result}\")"
   ]
  }
 ],
 "metadata": {
  "kernelspec": {
   "display_name": "langchain",
   "language": "python",
   "name": "python3"
  },
  "language_info": {
   "codemirror_mode": {
    "name": "ipython",
    "version": 3
   },
   "file_extension": ".py",
   "mimetype": "text/x-python",
   "name": "python",
   "nbconvert_exporter": "python",
   "pygments_lexer": "ipython3",
   "version": "3.11.13"
  }
 },
 "nbformat": 4,
 "nbformat_minor": 5
}
